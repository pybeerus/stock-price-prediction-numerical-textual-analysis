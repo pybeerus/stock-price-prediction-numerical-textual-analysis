{
 "cells": [
  {
   "cell_type": "markdown",
   "metadata": {
    "id": "5MkJDFffEhhG"
   },
   "source": [
    "# The Sparks Foundation - GRIP Data Science and Business Analytics Internship"
   ]
  },
  {
   "cell_type": "markdown",
   "metadata": {
    "id": "wS85WqyiEpA9"
   },
   "source": [
    "## Task: Stock Market Prediction using Numerical and Textual Analysis "
   ]
  },
  {
   "cell_type": "markdown",
   "metadata": {
    "id": "6XnrB1TqEtOS"
   },
   "source": [
    "## Objective: \n",
    "### Create a hybrid model for stock price/performance prediction using numerical analysis of historical stock prices, and sentimental analysis of news headlines"
   ]
  },
  {
   "cell_type": "markdown",
   "metadata": {
    "id": "9QCER5b8E6K8"
   },
   "source": [
    "#### Stock to analyze and predict - Reliance (RIL)\n",
    "#### Historical Stock Price Data - Yahoo Finance API: yfinance\n",
    "#### Textual Data - https://bit.ly/36fFPI6"
   ]
  },
  {
   "cell_type": "code",
   "execution_count": 1,
   "metadata": {
    "colab": {
     "base_uri": "https://localhost:8080/"
    },
    "executionInfo": {
     "elapsed": 29393,
     "status": "ok",
     "timestamp": 1624175338559,
     "user": {
      "displayName": "Shubham Wankar",
      "photoUrl": "https://lh3.googleusercontent.com/a-/AOh14GgXh2sJW_-QtPLTlhyJr-zBkKF_IZbzmQkIo_ozxg=s64",
      "userId": "10022766487249165129"
     },
     "user_tz": -330
    },
    "id": "yYS5hPDDFC82",
    "outputId": "a6c350de-5128-4ce4-e4f0-fd115bed439c"
   },
   "outputs": [
    {
     "name": "stdout",
     "output_type": "stream",
     "text": [
      "Collecting yfinance\n",
      "  Downloading https://files.pythonhosted.org/packages/a7/ee/315752b9ef281ba83c62aa7ec2e2074f85223da6e7e74efb4d3e11c0f510/yfinance-0.1.59.tar.gz\n",
      "Requirement already satisfied: pandas>=0.24 in /usr/local/lib/python3.7/dist-packages (from yfinance) (1.1.5)\n",
      "Requirement already satisfied: numpy>=1.15 in /usr/local/lib/python3.7/dist-packages (from yfinance) (1.19.5)\n",
      "Requirement already satisfied: requests>=2.20 in /usr/local/lib/python3.7/dist-packages (from yfinance) (2.23.0)\n",
      "Requirement already satisfied: multitasking>=0.0.7 in /usr/local/lib/python3.7/dist-packages (from yfinance) (0.0.9)\n",
      "Collecting lxml>=4.5.1\n",
      "\u001b[?25l  Downloading https://files.pythonhosted.org/packages/30/c0/d0526314971fc661b083ab135747dc68446a3022686da8c16d25fcf6ef07/lxml-4.6.3-cp37-cp37m-manylinux2014_x86_64.whl (6.3MB)\n",
      "\u001b[K     |████████████████████████████████| 6.3MB 9.2MB/s \n",
      "\u001b[?25hRequirement already satisfied: python-dateutil>=2.7.3 in /usr/local/lib/python3.7/dist-packages (from pandas>=0.24->yfinance) (2.8.1)\n",
      "Requirement already satisfied: pytz>=2017.2 in /usr/local/lib/python3.7/dist-packages (from pandas>=0.24->yfinance) (2018.9)\n",
      "Requirement already satisfied: urllib3!=1.25.0,!=1.25.1,<1.26,>=1.21.1 in /usr/local/lib/python3.7/dist-packages (from requests>=2.20->yfinance) (1.24.3)\n",
      "Requirement already satisfied: certifi>=2017.4.17 in /usr/local/lib/python3.7/dist-packages (from requests>=2.20->yfinance) (2021.5.30)\n",
      "Requirement already satisfied: idna<3,>=2.5 in /usr/local/lib/python3.7/dist-packages (from requests>=2.20->yfinance) (2.10)\n",
      "Requirement already satisfied: chardet<4,>=3.0.2 in /usr/local/lib/python3.7/dist-packages (from requests>=2.20->yfinance) (3.0.4)\n",
      "Requirement already satisfied: six>=1.5 in /usr/local/lib/python3.7/dist-packages (from python-dateutil>=2.7.3->pandas>=0.24->yfinance) (1.15.0)\n",
      "Building wheels for collected packages: yfinance\n",
      "  Building wheel for yfinance (setup.py) ... \u001b[?25l\u001b[?25hdone\n",
      "  Created wheel for yfinance: filename=yfinance-0.1.59-py2.py3-none-any.whl size=23455 sha256=e31b5f93986a47520f83c2b8caf0d4b1b22334ff5513cd51b71fc0034dfdfc47\n",
      "  Stored in directory: /root/.cache/pip/wheels/f8/2a/0f/4b5a86e1d52e451757eb6bc17fd899629f0925c777741b6d04\n",
      "Successfully built yfinance\n",
      "Installing collected packages: lxml, yfinance\n",
      "  Found existing installation: lxml 4.2.6\n",
      "    Uninstalling lxml-4.2.6:\n",
      "      Successfully uninstalled lxml-4.2.6\n",
      "Successfully installed lxml-4.6.3 yfinance-0.1.59\n",
      "[nltk_data] Downloading package vader_lexicon to /root/nltk_data...\n"
     ]
    },
    {
     "name": "stderr",
     "output_type": "stream",
     "text": [
      "/usr/local/lib/python3.7/dist-packages/nltk/twitter/__init__.py:20: UserWarning: The twython library has not been installed. Some functionality from the twitter package will not be available.\n",
      "  warnings.warn(\"The twython library has not been installed. \"\n"
     ]
    },
    {
     "name": "stdout",
     "output_type": "stream",
     "text": [
      "Mounted at /content/gdrive\n"
     ]
    }
   ],
   "source": [
    "# Importing required libraries\n",
    "import pandas as pd\n",
    "!pip install yfinance\n",
    "import yfinance as yf\n",
    "import datetime as dt\n",
    "\n",
    "# Importing NLTK Vader for sentiment Analysis\n",
    "import nltk\n",
    "nltk.download('vader_lexicon')\n",
    "from nltk.sentiment.vader import SentimentIntensityAnalyzer\n",
    "\n",
    "# Mounting google drive\n",
    "from google.colab import drive\n",
    "drive.mount('/content/gdrive')"
   ]
  },
  {
   "cell_type": "code",
   "execution_count": 2,
   "metadata": {
    "executionInfo": {
     "elapsed": 390,
     "status": "ok",
     "timestamp": 1624175348487,
     "user": {
      "displayName": "Shubham Wankar",
      "photoUrl": "https://lh3.googleusercontent.com/a-/AOh14GgXh2sJW_-QtPLTlhyJr-zBkKF_IZbzmQkIo_ozxg=s64",
      "userId": "10022766487249165129"
     },
     "user_tz": -330
    },
    "id": "RZuoZr9DG1_w"
   },
   "outputs": [],
   "source": [
    "# Function to get the news data\n",
    "def get_news_data(link):\n",
    "  # Reading News Data from csv link\n",
    "  news_data = pd.read_csv(link)\n",
    "\n",
    "  # Converting Publish Date to DateTime Format\n",
    "  news_data['publish_date']  = pd.to_datetime(news_data['publish_date'].astype('str'), format = '%Y%m%d')\n",
    "\n",
    "  #Returning news_data df\n",
    "  return news_data"
   ]
  },
  {
   "cell_type": "code",
   "execution_count": 3,
   "metadata": {
    "colab": {
     "base_uri": "https://localhost:8080/",
     "height": 202
    },
    "executionInfo": {
     "elapsed": 11324,
     "status": "ok",
     "timestamp": 1624175363129,
     "user": {
      "displayName": "Shubham Wankar",
      "photoUrl": "https://lh3.googleusercontent.com/a-/AOh14GgXh2sJW_-QtPLTlhyJr-zBkKF_IZbzmQkIo_ozxg=s64",
      "userId": "10022766487249165129"
     },
     "user_tz": -330
    },
    "id": "3m-urrMeGQkB",
    "outputId": "d039d5b2-a1e4-4e6f-cc5c-3824e8a946e8"
   },
   "outputs": [
    {
     "data": {
      "text/html": [
       "<div>\n",
       "<style scoped>\n",
       "    .dataframe tbody tr th:only-of-type {\n",
       "        vertical-align: middle;\n",
       "    }\n",
       "\n",
       "    .dataframe tbody tr th {\n",
       "        vertical-align: top;\n",
       "    }\n",
       "\n",
       "    .dataframe thead th {\n",
       "        text-align: right;\n",
       "    }\n",
       "</style>\n",
       "<table border=\"1\" class=\"dataframe\">\n",
       "  <thead>\n",
       "    <tr style=\"text-align: right;\">\n",
       "      <th></th>\n",
       "      <th>publish_date</th>\n",
       "      <th>headline_category</th>\n",
       "      <th>headline_text</th>\n",
       "    </tr>\n",
       "  </thead>\n",
       "  <tbody>\n",
       "    <tr>\n",
       "      <th>0</th>\n",
       "      <td>2001-01-02</td>\n",
       "      <td>unknown</td>\n",
       "      <td>Status quo will not be disturbed at Ayodhya; s...</td>\n",
       "    </tr>\n",
       "    <tr>\n",
       "      <th>1</th>\n",
       "      <td>2001-01-02</td>\n",
       "      <td>unknown</td>\n",
       "      <td>Fissures in Hurriyat over Pak visit</td>\n",
       "    </tr>\n",
       "    <tr>\n",
       "      <th>2</th>\n",
       "      <td>2001-01-02</td>\n",
       "      <td>unknown</td>\n",
       "      <td>America's unwanted heading for India?</td>\n",
       "    </tr>\n",
       "    <tr>\n",
       "      <th>3</th>\n",
       "      <td>2001-01-02</td>\n",
       "      <td>unknown</td>\n",
       "      <td>For bigwigs; it is destination Goa</td>\n",
       "    </tr>\n",
       "    <tr>\n",
       "      <th>4</th>\n",
       "      <td>2001-01-02</td>\n",
       "      <td>unknown</td>\n",
       "      <td>Extra buses to clear tourist traffic</td>\n",
       "    </tr>\n",
       "  </tbody>\n",
       "</table>\n",
       "</div>"
      ],
      "text/plain": [
       "  publish_date  ...                                      headline_text\n",
       "0   2001-01-02  ...  Status quo will not be disturbed at Ayodhya; s...\n",
       "1   2001-01-02  ...                Fissures in Hurriyat over Pak visit\n",
       "2   2001-01-02  ...              America's unwanted heading for India?\n",
       "3   2001-01-02  ...                 For bigwigs; it is destination Goa\n",
       "4   2001-01-02  ...               Extra buses to clear tourist traffic\n",
       "\n",
       "[5 rows x 3 columns]"
      ]
     },
     "execution_count": 3,
     "metadata": {
      "tags": []
     },
     "output_type": "execute_result"
    }
   ],
   "source": [
    "# Getting News Data\n",
    "link = '/content/gdrive/MyDrive/Colab Notebooks/india-news-headlines.csv'\n",
    "news_data = get_news_data(link)\n",
    "news_data.head()"
   ]
  },
  {
   "cell_type": "markdown",
   "metadata": {
    "id": "Xs_noG1GpCj4"
   },
   "source": [
    "##### Inference:\n",
    "1. The publish_date column has been converted to DateTime Format.\n",
    "2. We can observe that there are multiple headlines for a particular day"
   ]
  },
  {
   "cell_type": "code",
   "execution_count": 14,
   "metadata": {
    "executionInfo": {
     "elapsed": 1517445,
     "status": "ok",
     "timestamp": 1624186168050,
     "user": {
      "displayName": "Shubham Wankar",
      "photoUrl": "https://lh3.googleusercontent.com/a-/AOh14GgXh2sJW_-QtPLTlhyJr-zBkKF_IZbzmQkIo_ozxg=s64",
      "userId": "10022766487249165129"
     },
     "user_tz": -330
    },
    "id": "jH_77QM28tlb"
   },
   "outputs": [],
   "source": [
    "# Calculating Polarity scores for headlines\n",
    "analyzer = SentimentIntensityAnalyzer() #initializing Sentiment Intensity Analyzer\n",
    "news_data['Compound'] = [analyzer.polarity_scores(h)['compound'] for h in news_data['headline_text']]\n",
    "news_data['Neutral'] = [analyzer.polarity_scores(h)['neu'] for h in news_data['headline_text']]\n",
    "news_data['Positive'] = [analyzer.polarity_scores(h)['pos'] for h in news_data['headline_text']]\n",
    "news_data['Negative'] = [analyzer.polarity_scores(h)['neg'] for h in news_data['headline_text']]"
   ]
  },
  {
   "cell_type": "code",
   "execution_count": 18,
   "metadata": {
    "executionInfo": {
     "elapsed": 227543,
     "status": "ok",
     "timestamp": 1624187034428,
     "user": {
      "displayName": "Shubham Wankar",
      "photoUrl": "https://lh3.googleusercontent.com/a-/AOh14GgXh2sJW_-QtPLTlhyJr-zBkKF_IZbzmQkIo_ozxg=s64",
      "userId": "10022766487249165129"
     },
     "user_tz": -330
    },
    "id": "8JHilYrwR-uO"
   },
   "outputs": [],
   "source": [
    "sentiments = {} #initializing a sentiments dict\n",
    "\n",
    "# Caculating average polarity score for a given date\n",
    "for date in news_data['publish_date'].unique():\n",
    "  temp_1 = news_data[news_data['publish_date'] == date]['Compound']\n",
    "  temp_2 = news_data[news_data['publish_date'] == date]['Neutral']\n",
    "  temp_3 = news_data[news_data['publish_date'] == date]['Positive']\n",
    "  temp_4 = news_data[news_data['publish_date'] == date]['Negative']\n",
    "\n",
    "  avg_compound_score = temp_1.sum()/len(temp_1)\n",
    "  avg_neutral_score = temp_2.sum()/len(temp_2)\n",
    "  avg_positive_score = temp_3.sum()/len(temp_3)\n",
    "  avg_negative_score = temp_4.sum()/len(temp_4)\n",
    "\n",
    "  sentiments[date] = {'Compound': avg_compound_score,'Neutral': avg_neutral_score,'Positive': avg_positive_score, 'Negative': avg_negative_score}\n",
    "\n",
    "# Storing the required results in a Data Frame\n",
    "sentiment_df = pd.DataFrame()\n",
    "sentiment_df['Date'] = news_data['publish_date'].unique()\n",
    "sentiment_df['Compound'] = [sentiments[date]['Compound'] for date in news_data['publish_date'].unique()]\n",
    "sentiment_df['Neutral'] = [sentiments[date]['Neutral'] for date in news_data['publish_date'].unique()]\n",
    "sentiment_df['Positive'] = [sentiments[date]['Positive'] for date in news_data['publish_date'].unique()]\n",
    "sentiment_df['Negative'] = [sentiments[date]['Negative'] for date in news_data['publish_date'].unique()]\n",
    "\n",
    "sentiment_df.to_csv('sentiments.csv') #exporting to csv\n"
   ]
  },
  {
   "cell_type": "code",
   "execution_count": 17,
   "metadata": {
    "colab": {
     "base_uri": "https://localhost:8080/",
     "height": 202
    },
    "executionInfo": {
     "elapsed": 346,
     "status": "ok",
     "timestamp": 1624186767405,
     "user": {
      "displayName": "Shubham Wankar",
      "photoUrl": "https://lh3.googleusercontent.com/a-/AOh14GgXh2sJW_-QtPLTlhyJr-zBkKF_IZbzmQkIo_ozxg=s64",
      "userId": "10022766487249165129"
     },
     "user_tz": -330
    },
    "id": "ap78Qu2uVRT4",
    "outputId": "f83b3ceb-f25b-494c-919b-bc65710c989e"
   },
   "outputs": [
    {
     "data": {
      "text/html": [
       "<div>\n",
       "<style scoped>\n",
       "    .dataframe tbody tr th:only-of-type {\n",
       "        vertical-align: middle;\n",
       "    }\n",
       "\n",
       "    .dataframe tbody tr th {\n",
       "        vertical-align: top;\n",
       "    }\n",
       "\n",
       "    .dataframe thead th {\n",
       "        text-align: right;\n",
       "    }\n",
       "</style>\n",
       "<table border=\"1\" class=\"dataframe\">\n",
       "  <thead>\n",
       "    <tr style=\"text-align: right;\">\n",
       "      <th></th>\n",
       "      <th>Date</th>\n",
       "      <th>Compound</th>\n",
       "      <th>Neutral</th>\n",
       "      <th>Positive</th>\n",
       "      <th>Negative</th>\n",
       "    </tr>\n",
       "  </thead>\n",
       "  <tbody>\n",
       "    <tr>\n",
       "      <th>0</th>\n",
       "      <td>2001-01-02</td>\n",
       "      <td>-0.018231</td>\n",
       "      <td>0.831279</td>\n",
       "      <td>0.071965</td>\n",
       "      <td>0.071965</td>\n",
       "    </tr>\n",
       "    <tr>\n",
       "      <th>1</th>\n",
       "      <td>2001-01-03</td>\n",
       "      <td>-0.014800</td>\n",
       "      <td>0.812244</td>\n",
       "      <td>0.086976</td>\n",
       "      <td>0.086976</td>\n",
       "    </tr>\n",
       "    <tr>\n",
       "      <th>2</th>\n",
       "      <td>2001-01-04</td>\n",
       "      <td>0.009842</td>\n",
       "      <td>0.838464</td>\n",
       "      <td>0.085294</td>\n",
       "      <td>0.085294</td>\n",
       "    </tr>\n",
       "    <tr>\n",
       "      <th>3</th>\n",
       "      <td>2001-01-05</td>\n",
       "      <td>0.028646</td>\n",
       "      <td>0.772841</td>\n",
       "      <td>0.128333</td>\n",
       "      <td>0.128333</td>\n",
       "    </tr>\n",
       "    <tr>\n",
       "      <th>4</th>\n",
       "      <td>2001-01-06</td>\n",
       "      <td>-0.019683</td>\n",
       "      <td>0.768917</td>\n",
       "      <td>0.122917</td>\n",
       "      <td>0.122917</td>\n",
       "    </tr>\n",
       "  </tbody>\n",
       "</table>\n",
       "</div>"
      ],
      "text/plain": [
       "        Date  Compound   Neutral  Positive  Negative\n",
       "0 2001-01-02 -0.018231  0.831279  0.071965  0.071965\n",
       "1 2001-01-03 -0.014800  0.812244  0.086976  0.086976\n",
       "2 2001-01-04  0.009842  0.838464  0.085294  0.085294\n",
       "3 2001-01-05  0.028646  0.772841  0.128333  0.128333\n",
       "4 2001-01-06 -0.019683  0.768917  0.122917  0.122917"
      ]
     },
     "execution_count": 17,
     "metadata": {
      "tags": []
     },
     "output_type": "execute_result"
    }
   ],
   "source": [
    "# Getting sentiments for news data\n",
    "sentiment_df.head()"
   ]
  },
  {
   "cell_type": "code",
   "execution_count": 19,
   "metadata": {
    "executionInfo": {
     "elapsed": 359,
     "status": "ok",
     "timestamp": 1624187180420,
     "user": {
      "displayName": "Shubham Wankar",
      "photoUrl": "https://lh3.googleusercontent.com/a-/AOh14GgXh2sJW_-QtPLTlhyJr-zBkKF_IZbzmQkIo_ozxg=s64",
      "userId": "10022766487249165129"
     },
     "user_tz": -330
    },
    "id": "lQmum_qYUksW"
   },
   "outputs": [],
   "source": [
    "# Function to get stock data\n",
    "def get_historical_data(ticker, start, end):\n",
    "  historical_data = yf.download(tickers=ticker, start=start, end = end) #using yfinance library to download stock data\n",
    "  historical_data.to_csv(ticker.split()[0]+'_historical_data.csv') #exporting the data to csv\n",
    "  #returning the historical data of the stock\n",
    "  return historical_data"
   ]
  },
  {
   "cell_type": "code",
   "execution_count": 21,
   "metadata": {
    "colab": {
     "base_uri": "https://localhost:8080/",
     "height": 250
    },
    "executionInfo": {
     "elapsed": 941,
     "status": "ok",
     "timestamp": 1624187192481,
     "user": {
      "displayName": "Shubham Wankar",
      "photoUrl": "https://lh3.googleusercontent.com/a-/AOh14GgXh2sJW_-QtPLTlhyJr-zBkKF_IZbzmQkIo_ozxg=s64",
      "userId": "10022766487249165129"
     },
     "user_tz": -330
    },
    "id": "gt9lZ5JkCAnr",
    "outputId": "c8616eeb-1734-4453-991a-62f6eb110c7a"
   },
   "outputs": [
    {
     "name": "stdout",
     "output_type": "stream",
     "text": [
      "\r",
      "[*********************100%***********************]  1 of 1 completed\n"
     ]
    },
    {
     "data": {
      "text/html": [
       "<div>\n",
       "<style scoped>\n",
       "    .dataframe tbody tr th:only-of-type {\n",
       "        vertical-align: middle;\n",
       "    }\n",
       "\n",
       "    .dataframe tbody tr th {\n",
       "        vertical-align: top;\n",
       "    }\n",
       "\n",
       "    .dataframe thead th {\n",
       "        text-align: right;\n",
       "    }\n",
       "</style>\n",
       "<table border=\"1\" class=\"dataframe\">\n",
       "  <thead>\n",
       "    <tr style=\"text-align: right;\">\n",
       "      <th></th>\n",
       "      <th>Open</th>\n",
       "      <th>High</th>\n",
       "      <th>Low</th>\n",
       "      <th>Close</th>\n",
       "      <th>Adj Close</th>\n",
       "      <th>Volume</th>\n",
       "    </tr>\n",
       "    <tr>\n",
       "      <th>Date</th>\n",
       "      <th></th>\n",
       "      <th></th>\n",
       "      <th></th>\n",
       "      <th></th>\n",
       "      <th></th>\n",
       "      <th></th>\n",
       "    </tr>\n",
       "  </thead>\n",
       "  <tbody>\n",
       "    <tr>\n",
       "      <th>2001-01-02</th>\n",
       "      <td>52.661041</td>\n",
       "      <td>55.546684</td>\n",
       "      <td>52.645569</td>\n",
       "      <td>54.819473</td>\n",
       "      <td>42.817074</td>\n",
       "      <td>42810928</td>\n",
       "    </tr>\n",
       "    <tr>\n",
       "      <th>2001-01-03</th>\n",
       "      <td>54.927780</td>\n",
       "      <td>55.964447</td>\n",
       "      <td>54.618328</td>\n",
       "      <td>55.709148</td>\n",
       "      <td>43.511967</td>\n",
       "      <td>57159622</td>\n",
       "    </tr>\n",
       "    <tr>\n",
       "      <th>2001-01-04</th>\n",
       "      <td>55.562157</td>\n",
       "      <td>56.769024</td>\n",
       "      <td>55.113453</td>\n",
       "      <td>55.361015</td>\n",
       "      <td>43.240051</td>\n",
       "      <td>38666386</td>\n",
       "    </tr>\n",
       "    <tr>\n",
       "      <th>2001-01-05</th>\n",
       "      <td>55.159870</td>\n",
       "      <td>56.753551</td>\n",
       "      <td>55.159870</td>\n",
       "      <td>56.366734</td>\n",
       "      <td>44.025570</td>\n",
       "      <td>48215173</td>\n",
       "    </tr>\n",
       "    <tr>\n",
       "      <th>2001-01-08</th>\n",
       "      <td>56.088226</td>\n",
       "      <td>56.854122</td>\n",
       "      <td>55.275913</td>\n",
       "      <td>55.732357</td>\n",
       "      <td>43.530090</td>\n",
       "      <td>44224788</td>\n",
       "    </tr>\n",
       "  </tbody>\n",
       "</table>\n",
       "</div>"
      ],
      "text/plain": [
       "                 Open       High        Low      Close  Adj Close    Volume\n",
       "Date                                                                       \n",
       "2001-01-02  52.661041  55.546684  52.645569  54.819473  42.817074  42810928\n",
       "2001-01-03  54.927780  55.964447  54.618328  55.709148  43.511967  57159622\n",
       "2001-01-04  55.562157  56.769024  55.113453  55.361015  43.240051  38666386\n",
       "2001-01-05  55.159870  56.753551  55.159870  56.366734  44.025570  48215173\n",
       "2001-01-08  56.088226  56.854122  55.275913  55.732357  43.530090  44224788"
      ]
     },
     "execution_count": 21,
     "metadata": {
      "tags": []
     },
     "output_type": "execute_result"
    }
   ],
   "source": [
    "# Getting Stock Data for Reliance\n",
    "ticker = 'RELIANCE.NS'\n",
    "start = list(sentiment_df['Date'])[0].strftime('%Y-%m-%d')\n",
    "end = list(sentiment_df['Date'])[-1].strftime('%Y-%m-%d')\n",
    "historical_data = get_historical_data(ticker, start, end)\n",
    "historical_data.head()"
   ]
  },
  {
   "cell_type": "code",
   "execution_count": 25,
   "metadata": {
    "colab": {
     "base_uri": "https://localhost:8080/",
     "height": 202
    },
    "executionInfo": {
     "elapsed": 376,
     "status": "ok",
     "timestamp": 1624187352854,
     "user": {
      "displayName": "Shubham Wankar",
      "photoUrl": "https://lh3.googleusercontent.com/a-/AOh14GgXh2sJW_-QtPLTlhyJr-zBkKF_IZbzmQkIo_ozxg=s64",
      "userId": "10022766487249165129"
     },
     "user_tz": -330
    },
    "id": "1VZktQ1XxOIW",
    "outputId": "c0370cf9-918a-420a-f420-0c177526882b"
   },
   "outputs": [
    {
     "data": {
      "text/html": [
       "<div>\n",
       "<style scoped>\n",
       "    .dataframe tbody tr th:only-of-type {\n",
       "        vertical-align: middle;\n",
       "    }\n",
       "\n",
       "    .dataframe tbody tr th {\n",
       "        vertical-align: top;\n",
       "    }\n",
       "\n",
       "    .dataframe thead th {\n",
       "        text-align: right;\n",
       "    }\n",
       "</style>\n",
       "<table border=\"1\" class=\"dataframe\">\n",
       "  <thead>\n",
       "    <tr style=\"text-align: right;\">\n",
       "      <th></th>\n",
       "      <th>Date</th>\n",
       "      <th>Open</th>\n",
       "      <th>High</th>\n",
       "      <th>Low</th>\n",
       "      <th>Close</th>\n",
       "      <th>Adj Close</th>\n",
       "      <th>Volume</th>\n",
       "      <th>Compound</th>\n",
       "      <th>Neutral</th>\n",
       "      <th>Positive</th>\n",
       "      <th>Negative</th>\n",
       "    </tr>\n",
       "  </thead>\n",
       "  <tbody>\n",
       "    <tr>\n",
       "      <th>0</th>\n",
       "      <td>2001-01-02</td>\n",
       "      <td>52.661041</td>\n",
       "      <td>55.546684</td>\n",
       "      <td>52.645569</td>\n",
       "      <td>54.819473</td>\n",
       "      <td>42.817074</td>\n",
       "      <td>42810928</td>\n",
       "      <td>-0.018231</td>\n",
       "      <td>0.831279</td>\n",
       "      <td>0.071965</td>\n",
       "      <td>0.096756</td>\n",
       "    </tr>\n",
       "    <tr>\n",
       "      <th>1</th>\n",
       "      <td>2001-01-03</td>\n",
       "      <td>54.927780</td>\n",
       "      <td>55.964447</td>\n",
       "      <td>54.618328</td>\n",
       "      <td>55.709148</td>\n",
       "      <td>43.511967</td>\n",
       "      <td>57159622</td>\n",
       "      <td>-0.014800</td>\n",
       "      <td>0.812244</td>\n",
       "      <td>0.086976</td>\n",
       "      <td>0.100805</td>\n",
       "    </tr>\n",
       "    <tr>\n",
       "      <th>2</th>\n",
       "      <td>2001-01-04</td>\n",
       "      <td>55.562157</td>\n",
       "      <td>56.769024</td>\n",
       "      <td>55.113453</td>\n",
       "      <td>55.361015</td>\n",
       "      <td>43.240051</td>\n",
       "      <td>38666386</td>\n",
       "      <td>0.009842</td>\n",
       "      <td>0.838464</td>\n",
       "      <td>0.085294</td>\n",
       "      <td>0.076235</td>\n",
       "    </tr>\n",
       "    <tr>\n",
       "      <th>3</th>\n",
       "      <td>2001-01-05</td>\n",
       "      <td>55.159870</td>\n",
       "      <td>56.753551</td>\n",
       "      <td>55.159870</td>\n",
       "      <td>56.366734</td>\n",
       "      <td>44.025570</td>\n",
       "      <td>48215173</td>\n",
       "      <td>0.028646</td>\n",
       "      <td>0.772841</td>\n",
       "      <td>0.128333</td>\n",
       "      <td>0.098810</td>\n",
       "    </tr>\n",
       "    <tr>\n",
       "      <th>4</th>\n",
       "      <td>2001-01-08</td>\n",
       "      <td>56.088226</td>\n",
       "      <td>56.854122</td>\n",
       "      <td>55.275913</td>\n",
       "      <td>55.732357</td>\n",
       "      <td>43.530090</td>\n",
       "      <td>44224788</td>\n",
       "      <td>-0.055812</td>\n",
       "      <td>0.819682</td>\n",
       "      <td>0.081970</td>\n",
       "      <td>0.098348</td>\n",
       "    </tr>\n",
       "  </tbody>\n",
       "</table>\n",
       "</div>"
      ],
      "text/plain": [
       "        Date       Open       High  ...   Neutral  Positive  Negative\n",
       "0 2001-01-02  52.661041  55.546684  ...  0.831279  0.071965  0.096756\n",
       "1 2001-01-03  54.927780  55.964447  ...  0.812244  0.086976  0.100805\n",
       "2 2001-01-04  55.562157  56.769024  ...  0.838464  0.085294  0.076235\n",
       "3 2001-01-05  55.159870  56.753551  ...  0.772841  0.128333  0.098810\n",
       "4 2001-01-08  56.088226  56.854122  ...  0.819682  0.081970  0.098348\n",
       "\n",
       "[5 rows x 11 columns]"
      ]
     },
     "execution_count": 25,
     "metadata": {
      "tags": []
     },
     "output_type": "execute_result"
    }
   ],
   "source": [
    "# Merging the two dataframes\n",
    "data = pd.merge(left = historical_data, right = sentiment_df, on = 'Date')\n",
    "data.head()"
   ]
  },
  {
   "cell_type": "code",
   "execution_count": 24,
   "metadata": {
    "executionInfo": {
     "elapsed": 392,
     "status": "ok",
     "timestamp": 1624187272151,
     "user": {
      "displayName": "Shubham Wankar",
      "photoUrl": "https://lh3.googleusercontent.com/a-/AOh14GgXh2sJW_-QtPLTlhyJr-zBkKF_IZbzmQkIo_ozxg=s64",
      "userId": "10022766487249165129"
     },
     "user_tz": -330
    },
    "id": "oxGHCdJVxO-M"
   },
   "outputs": [],
   "source": [
    "# Exporting data to csv\n",
    "data.to_csv('ril_data.csv')"
   ]
  }
 ],
 "metadata": {
  "colab": {
   "authorship_tag": "ABX9TyMKHacEt7AKTFfPij/62ZcT",
   "name": "RIL_stock_prediction.ipynb",
   "provenance": []
  },
  "kernelspec": {
   "display_name": "Python 3",
   "language": "python",
   "name": "python3"
  },
  "language_info": {
   "codemirror_mode": {
    "name": "ipython",
    "version": 3
   },
   "file_extension": ".py",
   "mimetype": "text/x-python",
   "name": "python",
   "nbconvert_exporter": "python",
   "pygments_lexer": "ipython3",
   "version": "3.7.6"
  }
 },
 "nbformat": 4,
 "nbformat_minor": 1
}
